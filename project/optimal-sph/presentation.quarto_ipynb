{
  "cells": [
    {
      "cell_type": "markdown",
      "metadata": {},
      "source": [
        "---\n",
        "title: \"Optimal SPH Pressure fields\"\n",
        "author: \"Julian Karrer\"\n",
        "format:\n",
        "  revealjs: \n",
        "    theme: dark\n",
        "    transition: fade\n",
        "    background-transition: fade\n",
        "  html:\n",
        "    include-in-header:\n",
        "      - pyscript-header.html\n",
        "---\n",
        "\n",
        "# Motivation {background-video=\"res/coast-cut.mp4\" background-video-loop=\"true\" background-video-muted=\"true\" auto-animate=true}\n",
        "\n",
        "## Smoothed Particle Hydrodynamics {auto-animate=true}\n",
        "- $A_i \\approx \\sum_{j \\in \\mathcal{N}_i} V_j A_j W(\\vec{x}_{ij}, \\hbar)$\n",
        "\n",
        "<!-- $\\begin{align}A(\\vec{x}_i) &\\approx \\sum_{j \\in \\mathcal{N}_i} V_j A_j W(\\vec{x}_{ij}, \\hbar)\\\\\\nabla A(\\vec{x}_i) &\\approx \\sum_{j \\in \\mathcal{N}_i} V_j A_j \\nabla W(\\vec{x}_{ij}, \\hbar)\\end{align}$ -->\n",
        "\n",
        "- Sum over neighbours $\\mathcal{N}_i := \\left\\{\\vec{x} : \\, \\left|\\left|\\vec{x}_i-\\vec{x}\\right|\\right|_2 \\leq \\hbar\\,  \\right\\}$\n",
        "- Gaussian Kernel $W$ with smoothing length $\\hbar$\n",
        "\n",
        "## Sine Wave with Slider"
      ],
      "id": "aeb97d40"
    },
    {
      "cell_type": "code",
      "metadata": {},
      "source": [
        "from ipyleaflet import Map, Marker, basemaps, basemap_to_tiles\n",
        "m = Map(\n",
        "  basemap=basemap_to_tiles(\n",
        "    basemaps.NASAGIBS.ModisTerraTrueColorCR, \"2017-04-08\"\n",
        "  ),\n",
        "  center=(52.204793, 360.121558),\n",
        "  zoom=4\n",
        ")\n",
        "m.add_layer(Marker(location=(52.204793, 360.121558)))\n",
        "m"
      ],
      "id": "5315d9e5",
      "execution_count": null,
      "outputs": []
    }
  ],
  "metadata": {
    "kernelspec": {
      "display_name": "Python 3",
      "language": "python",
      "name": "python3"
    }
  },
  "nbformat": 4,
  "nbformat_minor": 5
}